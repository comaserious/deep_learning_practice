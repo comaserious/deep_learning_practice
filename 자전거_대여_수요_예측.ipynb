{
  "nbformat": 4,
  "nbformat_minor": 0,
  "metadata": {
    "colab": {
      "provenance": [],
      "gpuType": "T4",
      "authorship_tag": "ABX9TyPht4JCHWif9SHRgGk6J7Vo",
      "include_colab_link": true
    },
    "kernelspec": {
      "name": "python3",
      "display_name": "Python 3"
    },
    "language_info": {
      "name": "python"
    }
  },
  "cells": [
    {
      "cell_type": "markdown",
      "metadata": {
        "id": "view-in-github",
        "colab_type": "text"
      },
      "source": [
        "<a href=\"https://colab.research.google.com/github/comaserious/deep_learning_practice/blob/main/%EC%9E%90%EC%A0%84%EA%B1%B0_%EB%8C%80%EC%97%AC_%EC%88%98%EC%9A%94_%EC%98%88%EC%B8%A1.ipynb\" target=\"_parent\"><img src=\"https://colab.research.google.com/assets/colab-badge.svg\" alt=\"Open In Colab\"/></a>"
      ]
    },
    {
      "cell_type": "code",
      "execution_count": 2,
      "metadata": {
        "id": "w2spXkc9Z6rq"
      },
      "outputs": [],
      "source": [
        "import numpy as np\n",
        "import pandas as pd\n",
        "import seaborn as sns\n",
        "import matplotlib.pyplot as plt\n",
        "\n",
        "import warnings\n",
        "warnings.filterwarnings(\"ignore\", category=RuntimeWarning)"
      ]
    },
    {
      "cell_type": "code",
      "source": [
        "bike_df = pd.read_csv(\"/content/sample_data/train.csv\")\n",
        "\n",
        "bike_df.info()"
      ],
      "metadata": {
        "colab": {
          "base_uri": "https://localhost:8080/"
        },
        "id": "prS1WhmEagy2",
        "outputId": "87a1a16b-17e1-45b5-e649-ef91f8dfba09"
      },
      "execution_count": 5,
      "outputs": [
        {
          "output_type": "stream",
          "name": "stdout",
          "text": [
            "<class 'pandas.core.frame.DataFrame'>\n",
            "RangeIndex: 10886 entries, 0 to 10885\n",
            "Data columns (total 12 columns):\n",
            " #   Column      Non-Null Count  Dtype  \n",
            "---  ------      --------------  -----  \n",
            " 0   datetime    10886 non-null  object \n",
            " 1   season      10886 non-null  int64  \n",
            " 2   holiday     10886 non-null  int64  \n",
            " 3   workingday  10886 non-null  int64  \n",
            " 4   weather     10886 non-null  int64  \n",
            " 5   temp        10886 non-null  float64\n",
            " 6   atemp       10886 non-null  float64\n",
            " 7   humidity    10886 non-null  int64  \n",
            " 8   windspeed   10886 non-null  float64\n",
            " 9   casual      10886 non-null  int64  \n",
            " 10  registered  10886 non-null  int64  \n",
            " 11  count       10886 non-null  int64  \n",
            "dtypes: float64(3), int64(8), object(1)\n",
            "memory usage: 1020.7+ KB\n"
          ]
        }
      ]
    },
    {
      "cell_type": "code",
      "source": [
        "bike_df['datetime'] = bike_df.datetime.apply(pd.to_datetime)\n",
        "bike_df.info()"
      ],
      "metadata": {
        "colab": {
          "base_uri": "https://localhost:8080/"
        },
        "id": "wbDdJ8iCcAwN",
        "outputId": "e1395d0f-8449-45bf-ffa6-8350af733d19"
      },
      "execution_count": 6,
      "outputs": [
        {
          "output_type": "stream",
          "name": "stdout",
          "text": [
            "<class 'pandas.core.frame.DataFrame'>\n",
            "RangeIndex: 10886 entries, 0 to 10885\n",
            "Data columns (total 12 columns):\n",
            " #   Column      Non-Null Count  Dtype         \n",
            "---  ------      --------------  -----         \n",
            " 0   datetime    10886 non-null  datetime64[ns]\n",
            " 1   season      10886 non-null  int64         \n",
            " 2   holiday     10886 non-null  int64         \n",
            " 3   workingday  10886 non-null  int64         \n",
            " 4   weather     10886 non-null  int64         \n",
            " 5   temp        10886 non-null  float64       \n",
            " 6   atemp       10886 non-null  float64       \n",
            " 7   humidity    10886 non-null  int64         \n",
            " 8   windspeed   10886 non-null  float64       \n",
            " 9   casual      10886 non-null  int64         \n",
            " 10  registered  10886 non-null  int64         \n",
            " 11  count       10886 non-null  int64         \n",
            "dtypes: datetime64[ns](1), float64(3), int64(8)\n",
            "memory usage: 1020.7 KB\n"
          ]
        }
      ]
    },
    {
      "cell_type": "code",
      "source": [
        "bike_df['year'] = bike_df.datetime.apply(lambda x: x.year)\n",
        "bike_df['month']= bike_df.datetime.apply(lambda x: x.month)\n",
        "bike_df['day'] = bike_df.datetime.apply(lambda x : x.day)\n",
        "bike_df['hour'] = bike_df.datetime.apply(lambda x : x.hour)\n",
        "\n",
        "bike_df.info()"
      ],
      "metadata": {
        "colab": {
          "base_uri": "https://localhost:8080/"
        },
        "id": "TPkZJmogcQvt",
        "outputId": "1a274629-fec9-4b8b-9cc6-63113f7bcb95"
      },
      "execution_count": 7,
      "outputs": [
        {
          "output_type": "stream",
          "name": "stdout",
          "text": [
            "<class 'pandas.core.frame.DataFrame'>\n",
            "RangeIndex: 10886 entries, 0 to 10885\n",
            "Data columns (total 16 columns):\n",
            " #   Column      Non-Null Count  Dtype         \n",
            "---  ------      --------------  -----         \n",
            " 0   datetime    10886 non-null  datetime64[ns]\n",
            " 1   season      10886 non-null  int64         \n",
            " 2   holiday     10886 non-null  int64         \n",
            " 3   workingday  10886 non-null  int64         \n",
            " 4   weather     10886 non-null  int64         \n",
            " 5   temp        10886 non-null  float64       \n",
            " 6   atemp       10886 non-null  float64       \n",
            " 7   humidity    10886 non-null  int64         \n",
            " 8   windspeed   10886 non-null  float64       \n",
            " 9   casual      10886 non-null  int64         \n",
            " 10  registered  10886 non-null  int64         \n",
            " 11  count       10886 non-null  int64         \n",
            " 12  year        10886 non-null  int64         \n",
            " 13  month       10886 non-null  int64         \n",
            " 14  day         10886 non-null  int64         \n",
            " 15  hour        10886 non-null  int64         \n",
            "dtypes: datetime64[ns](1), float64(3), int64(12)\n",
            "memory usage: 1.3 MB\n"
          ]
        }
      ]
    },
    {
      "cell_type": "code",
      "source": [
        "drop_columns = ['datetime', 'casual' , 'registered']\n",
        "bike_df.drop(drop_columns, axis=1 , inplace=True)"
      ],
      "metadata": {
        "id": "DNqKFOJJc-uA"
      },
      "execution_count": 8,
      "outputs": []
    },
    {
      "cell_type": "code",
      "source": [
        "fig ,axs = plt.subplots(figsize=(16,6), ncols = 4 , nrows=2)\n",
        "cat_features = ['year', 'month', 'season', 'weather', 'day', 'hour', 'holiday', 'workingday']\n",
        "for i ,feature in enumerate(cat_features):\n",
        "  row = int(i/4)\n",
        "  column = i%4\n",
        "  sns.barplot(x=feature, y='count', data = bike_df, ax = axs[row][column])"
      ],
      "metadata": {
        "colab": {
          "base_uri": "https://localhost:8080/",
          "height": 544
        },
        "id": "FQHuwrwSdMif",
        "outputId": "39e38c9f-3f85-4f25-eca3-11bb02c0d924"
      },
      "execution_count": 9,
      "outputs": [
        {
          "output_type": "display_data",
          "data": {
            "text/plain": [
              "<Figure size 1600x600 with 8 Axes>"
            ],
            "image/png": "[encoded data removed]"
          },
          "metadata": {}
        }
      ]
    },
    {
      "cell_type": "code",
      "source": [
        "from sklearn.metrics import mean_squared_error , mean_absolute_error\n",
        "\n",
        "def rmsle(y, pred):\n",
        "  log_y = np.log1p(y)\n",
        "  log_pred = np.log1p(pred)\n",
        "  squared_error = (log_y - log_pred)**2\n",
        "  rmsle = np.sqrt(np.mean(squared_error))\n",
        "  return rmsle\n",
        "\n",
        "def rmse(y, pred):\n",
        "  return np.sqrt(mean_squared_error(y, pred))\n",
        "\n",
        "def evaluate_reg(y,pred):\n",
        "  rmsle_val = rmsle(y, pred)\n",
        "  rmse_val = rmse(y,pred)\n",
        "\n",
        "  mae_val = mean_absolute_error(y, pred)\n",
        "  print('RMSLE: {0:.3f}, RMSE: {1:.3F}, MAE: {2:.3F}'.format(rmsle_val, rmse_val, mae_val))\n"
      ],
      "metadata": {
        "id": "sHP51JK9egN7"
      },
      "execution_count": 10,
      "outputs": []
    },
    {
      "cell_type": "code",
      "source": [
        "from sklearn.model_selection import train_test_split,GridSearchCV\n",
        "from sklearn.linear_model import LinearRegression, Ridge, Lasso\n",
        "y_target = bike_df['count']\n",
        "\n",
        "x_features = bike_df.drop(['count'], axis=1, inplace=False)\n",
        "\n",
        "x_train, x_test , y_train, y_test = train_test_split(x_features, y_target , test_size=0.3, random_state=0)\n",
        "\n",
        "lr_reg = LinearRegression()\n",
        "lr_reg.fit(x_train, y_train)\n",
        "pred = lr_reg.predict(x_test)\n",
        "\n",
        "evaluate_reg(y_test, pred)"
      ],
      "metadata": {
        "colab": {
          "base_uri": "https://localhost:8080/"
        },
        "id": "yILUoDaHfy_i",
        "outputId": "350060bd-66e7-4a0e-b737-559eef38c969"
      },
      "execution_count": 11,
      "outputs": [
        {
          "output_type": "stream",
          "name": "stdout",
          "text": [
            "RMSLE: 1.165, RMSE: 140.900, MAE: 105.924\n"
          ]
        }
      ]
    },
    {
      "cell_type": "code",
      "source": [
        "y_target_log = np.log1p(y_target)\n",
        "x_train, x_test, y_train, y_test = train_test_split(x_features , y_target_log, test_size=0.3 , random_state =0 )\n",
        "lr_reg = LinearRegression()\n",
        "lr_reg.fit(x_train,y_train)\n",
        "\n",
        "pred = lr_reg.predict(x_test)\n"
      ],
      "metadata": {
        "id": "ilmZXNHkhTFe"
      },
      "execution_count": 12,
      "outputs": []
    },
    {
      "cell_type": "code",
      "source": [
        "y_test_exp = np.expm1(y_test)\n",
        "pred_exp = np.expm1(pred)\n",
        "\n",
        "evaluate_reg(y_test_exp, pred_exp)"
      ],
      "metadata": {
        "colab": {
          "base_uri": "https://localhost:8080/"
        },
        "id": "js_4jnMpiB82",
        "outputId": "ef21aa7e-db7d-4920-8066-4bdae1232875"
      },
      "execution_count": 13,
      "outputs": [
        {
          "output_type": "stream",
          "name": "stdout",
          "text": [
            "RMSLE: 1.017, RMSE: 162.594, MAE: 109.286\n"
          ]
        }
      ]
    },
    {
      "cell_type": "code",
      "source": [
        "# 원 핫 인코딩 후 재학습\n",
        "\n",
        "x_features_ohe = pd.get_dummies(x_features, columns=['year','month','day', 'hour', 'holiday' , 'workingday', 'season', 'weather'])\n",
        "x_train, x_test , y_train, y_test = train_test_split(x_features_ohe, y_target_log, test_size=0.3 , random_state=0)\n",
        "\n",
        "def get_model_predict(model, x_train, x_test, y_train, y_test, is_expm1=False):\n",
        "  model.fit(x_train,y_train)\n",
        "  pred = model.predict(x_test)\n",
        "\n",
        "  if is_expm1:\n",
        "    y_test = np.expm1(y_test)\n",
        "    pred = np.expm1(pred)\n",
        "\n",
        "  print('###',model.__class__.__name__,'###')\n",
        "  evaluate_reg(y_test, pred)"
      ],
      "metadata": {
        "id": "jNp6jiLajVUo"
      },
      "execution_count": 14,
      "outputs": []
    },
    {
      "cell_type": "code",
      "source": [
        "lr_reg = LinearRegression()\n",
        "ridge_reg = Ridge(alpha =10)\n",
        "lasso_reg = Lasso(alpha = 0.01)\n",
        "\n",
        "for model in [lr_reg, ridge_reg, lasso_reg]:\n",
        "  get_model_predict(model, x_train, x_test, y_train, y_test, is_expm1=True)"
      ],
      "metadata": {
        "colab": {
          "base_uri": "https://localhost:8080/"
        },
        "id": "dXNMcbrxlOQA",
        "outputId": "43390c4a-bb4e-4f8b-eadd-5227aa39e565"
      },
      "execution_count": 15,
      "outputs": [
        {
          "output_type": "stream",
          "name": "stdout",
          "text": [
            "### LinearRegression ###\n",
            "RMSLE: 0.590, RMSE: 97.688, MAE: 63.382\n",
            "### Ridge ###\n",
            "RMSLE: 0.590, RMSE: 98.529, MAE: 63.893\n",
            "### Lasso ###\n",
            "RMSLE: 0.635, RMSE: 113.219, MAE: 72.803\n"
          ]
        }
      ]
    },
    {
      "cell_type": "code",
      "source": [
        "from sklearn.ensemble import RandomForestRegressor, GradientBoostingRegressor\n",
        "from xgboost import XGBRegressor\n",
        "from lightgbm import LGBMRegressor\n",
        "\n",
        "rf_reg = RandomForestRegressor(n_estimators = 500)\n",
        "gbm_reg = GradientBoostingRegressor(n_estimators = 500)\n",
        "xgb_reg = XGBRegressor(n_estimators = 500)\n",
        "lgbm_reg = LGBMRegressor(n_estimators = 500)\n",
        "\n",
        "for model in [rf_reg, gbm_reg, xgb_reg, lgbm_reg]:\n",
        "  get_model_predict(model, x_train, x_test, y_train, y_test, is_expm1=True)"
      ],
      "metadata": {
        "colab": {
          "base_uri": "https://localhost:8080/"
        },
        "id": "gJKZyTUXlsUI",
        "outputId": "fc4e55fc-885c-4ff9-d1e4-01a0aa72c4f2"
      },
      "execution_count": 18,
      "outputs": [
        {
          "output_type": "stream",
          "name": "stdout",
          "text": [
            "### RandomForestRegressor ###\n",
            "RMSLE: 0.354, RMSE: 50.124, MAE: 31.006\n",
            "### GradientBoostingRegressor ###\n",
            "RMSLE: 0.330, RMSE: 53.321, MAE: 32.731\n",
            "### XGBRegressor ###\n",
            "RMSLE: 0.339, RMSE: 51.475, MAE: 31.357\n",
            "[LightGBM] [Info] Auto-choosing row-wise multi-threading, the overhead of testing was 0.001030 seconds.\n",
            "You can set `force_row_wise=true` to remove the overhead.\n",
            "And if memory is not enough, you can set `force_col_wise=true`.\n",
            "[LightGBM] [Info] Total Bins 348\n",
            "[LightGBM] [Info] Number of data points in the train set: 7620, number of used features: 72\n",
            "[LightGBM] [Info] Start training from score 4.582043\n",
            "### LGBMRegressor ###\n",
            "RMSLE: 0.319, RMSE: 47.215, MAE: 29.029\n"
          ]
        }
      ]
    }
  ]
}